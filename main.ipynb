{
 "cells": [
  {
   "cell_type": "code",
   "execution_count": 2,
   "outputs": [],
   "source": [
    "import numpy as np\n",
    "import pandas as pd\n",
    "import io\n",
    "\n",
    "filename = \"long_term_signal.dat\""
   ],
   "metadata": {
    "collapsed": false
   }
  },
  {
   "cell_type": "code",
   "execution_count": 87,
   "outputs": [],
   "source": [
    "def load_file():\n",
    "    data_raw = pd.read_csv(filename, sep=\"\\t\", decimal=\",\")\n",
    "    data = pd.DataFrame(data_raw).to_numpy()\n",
    "    return data\n",
    "#load_file()"
   ],
   "metadata": {
    "collapsed": false
   }
  },
  {
   "cell_type": "code",
   "execution_count": 1,
   "outputs": [
    {
     "ename": "SyntaxError",
     "evalue": "invalid syntax (1208548018.py, line 10)",
     "output_type": "error",
     "traceback": [
      "\u001B[1;36m  Cell \u001B[1;32mIn[1], line 10\u001B[1;36m\u001B[0m\n\u001B[1;33m    sr = 1 / (60*)\u001B[0m\n\u001B[1;37m                 ^\u001B[0m\n\u001B[1;31mSyntaxError\u001B[0m\u001B[1;31m:\u001B[0m invalid syntax\n"
     ]
    }
   ],
   "source": [
    "def linear_regression():\n",
    "    data = load_file()\n",
    "    slope, intersection = np.polyfit(data[:,0], data[:,1],1)    # y = mx+b => m: slope, b: slope\n",
    "   # print(f\"y = mx + b \\n slope(m): {slope} \\n intersection(b): {intersection}\")\n",
    "    return slope, intersection\n",
    "#linear_regression()\n",
    "data = load_file()\n",
    "def fft():\n",
    "    N = len(data[:,1])\n",
    "    sr = 1 / (60*)\n",
    "    fq = np.fft.fft(data, axis=1)\n",
    "\n",
    "    return N\n",
    "fft()\n",
    "\n",
    "# var = np.fft()\n",
    "\n",
    "#if __name__ == \"__main__\":\n",
    "#    dt = slope()\n",
    "#    print(\"done\")"
   ],
   "metadata": {
    "collapsed": false
   }
  },
  {
   "cell_type": "code",
   "execution_count": null,
   "outputs": [],
   "source": [],
   "metadata": {
    "collapsed": false,
    "pycharm": {
     "is_executing": true
    }
   }
  },
  {
   "cell_type": "code",
   "execution_count": 78,
   "outputs": [],
   "source": [],
   "metadata": {
    "collapsed": false
   }
  }
 ],
 "metadata": {
  "kernelspec": {
   "display_name": "Python 3",
   "language": "python",
   "name": "python3"
  },
  "language_info": {
   "codemirror_mode": {
    "name": "ipython",
    "version": 2
   },
   "file_extension": ".py",
   "mimetype": "text/x-python",
   "name": "python",
   "nbconvert_exporter": "python",
   "pygments_lexer": "ipython2",
   "version": "2.7.6"
  }
 },
 "nbformat": 4,
 "nbformat_minor": 0
}
