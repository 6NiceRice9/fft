{
 "cells": [
  {
   "cell_type": "code",
   "execution_count": 129,
   "outputs": [],
   "source": [
    "import numpy as np\n",
    "import pandas as pd\n",
    "import logging\n",
    "\n",
    "\n",
    "class Nanonis_long_term_data_to_fft:\n",
    "    #constant values\n",
    "    start_read_from_here = \"[D\"\n",
    "\n",
    "    def __init__(self, fname, sep=\"\\t\"):\n",
    "        self.fname = fname\n",
    "        #self.data_clean = data_clean\n",
    "\n",
    "    def load_file(self):\n",
    "        df_raw = pd.read_csv(self.fname, sep=\"\\t\", decimal=\",\", header=None)\n",
    "        df_raw = pd.DataFrame(df_raw)\n",
    "        condition = self.start_read_from_here == df_raw\n",
    "        row, col = condition.where(condition).stack().index.levels  # Find the index of the row that meets the condition\n",
    "        #data_converted_to_np = pd.DataFrame(data_raw).to_numpy()\n",
    "        logging.debug(f\"Temporary argument for debugging:\"\n",
    "                      f\"\\n row: {row}\"\n",
    "                      f\"\\n col: {col}\"\n",
    "                      f\"\\n raw_data:\"\n",
    "                      f\"\\n{df_raw}\")\n",
    "        return df_raw\n",
    "\n",
    "\n",
    "# Configure the logging level\n",
    "logging.basicConfig(level=logging.DEBUG)  # Change this to logging.INFO to hide debug messages\n"
   ],
   "metadata": {
    "collapsed": false
   }
  },
  {
   "cell_type": "code",
   "execution_count": 130,
   "outputs": [
    {
     "name": "stderr",
     "output_type": "stream",
     "text": [
      "DEBUG:root:Temporary argument for debugging:\n",
      " row: RangeIndex(start=0, stop=347, step=1)\n",
      " col: Int64Index([0, 1, 2], dtype='int64')\n",
      " raw_data:\n",
      "                0                    1   2\n",
      "0      Experiment         Oscilloscope NaN\n",
      "1      Saved Date  16.03.2023 12:32:13 NaN\n",
      "2            User                  NaN NaN\n",
      "3              AC          12.4738E-12 NaN\n",
      "4              DC          -98.9035E-9 NaN\n",
      "..            ...                  ...  ..\n",
      "342  2.5100000E+0        -98.870750E-9 NaN\n",
      "343  2.5200000E+0        -98.871318E-9 NaN\n",
      "344  2.5300000E+0        -98.873876E-9 NaN\n",
      "345  2.5400000E+0        -98.873187E-9 NaN\n",
      "346  2.5500000E+0        -98.874104E-9 NaN\n",
      "\n",
      "[347 rows x 3 columns]\n"
     ]
    }
   ],
   "source": [
    "#def linear_regression():\n",
    "#    data = load_file()\n",
    "#    slope, intersection = np.polyfit(data[:,0], data[:,1],1)    # y = mx+b => m: slope, b: slope\n",
    "#   # print(f\"y = mx + b \\n slope(m): {slope} \\n intersection(b): {intersection}\")\n",
    "#    return slope, intersection\n",
    "\n",
    "if __name__ == \"__main__\":\n",
    "    tfile = Nanonis_long_term_data_to_fft(\"6Hz_Z_signal_clean001.dat\")\n",
    "    ttfile = tfile.load_file()\n"
   ],
   "metadata": {
    "collapsed": false
   }
  },
  {
   "cell_type": "code",
   "execution_count": null,
   "outputs": [],
   "source": [],
   "metadata": {
    "collapsed": false
   }
  }
 ],
 "metadata": {
  "kernelspec": {
   "display_name": "Python 3",
   "language": "python",
   "name": "python3"
  },
  "language_info": {
   "codemirror_mode": {
    "name": "ipython",
    "version": 2
   },
   "file_extension": ".py",
   "mimetype": "text/x-python",
   "name": "python",
   "nbconvert_exporter": "python",
   "pygments_lexer": "ipython2",
   "version": "2.7.6"
  }
 },
 "nbformat": 4,
 "nbformat_minor": 0
}
