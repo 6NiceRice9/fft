{
 "cells": [
  {
   "cell_type": "code",
   "execution_count": 2,
   "outputs": [],
   "source": [
    "import numpy as np\n",
    "import pandas as pd\n",
    "\n",
    "filename = \"long_term_signal.dat\""
   ],
   "metadata": {
    "collapsed": false
   }
  },
  {
   "cell_type": "code",
   "execution_count": 3,
   "outputs": [],
   "source": [
    "def load_file():\n",
    "    data_raw = pd.read_csv(filename, sep=\"\\t\", decimal=\",\")\n",
    "    data_converted_to_np = pd.DataFrame(data_raw).to_numpy()\n",
    "    return data_converted_to_np\n",
    "#load_file()"
   ],
   "metadata": {
    "collapsed": false
   }
  },
  {
   "cell_type": "code",
   "execution_count": 4,
   "outputs": [
    {
     "data": {
      "text/plain": "24999"
     },
     "execution_count": 4,
     "metadata": {},
     "output_type": "execute_result"
    }
   ],
   "source": [
    "def linear_regression():\n",
    "    data = load_file()\n",
    "    slope, intersection = np.polyfit(data[:,0], data[:,1],1)    # y = mx+b => m: slope, b: slope\n",
    "   # print(f\"y = mx + b \\n slope(m): {slope} \\n intersection(b): {intersection}\")\n",
    "    return slope, intersection\n",
    "#linear_regression()\n",
    "data = load_file()\n",
    "def fft():\n",
    "    N = len(data[:,1])\n",
    "    sr = 1 / (60*20)\n",
    "    fq = np.fft.fft(data, axis=1)\n",
    "\n",
    "    return N\n",
    "fft()\n",
    "\n",
    "# var = np.fft()\n",
    "\n",
    "#if __name__ == \"__main__\":\n",
    "#    dt = slope()\n",
    "#    print(\"done\")"
   ],
   "metadata": {
    "collapsed": false
   }
  },
  {
   "cell_type": "code",
   "execution_count": null,
   "outputs": [],
   "source": [],
   "metadata": {
    "collapsed": false
   }
  }
 ],
 "metadata": {
  "kernelspec": {
   "display_name": "Python 3",
   "language": "python",
   "name": "python3"
  },
  "language_info": {
   "codemirror_mode": {
    "name": "ipython",
    "version": 2
   },
   "file_extension": ".py",
   "mimetype": "text/x-python",
   "name": "python",
   "nbconvert_exporter": "python",
   "pygments_lexer": "ipython2",
   "version": "2.7.6"
  }
 },
 "nbformat": 4,
 "nbformat_minor": 0
}
